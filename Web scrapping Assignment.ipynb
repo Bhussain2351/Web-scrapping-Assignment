{
 "cells": [
  {
   "cell_type": "code",
   "execution_count": 1,
   "id": "d16b8ee3-53ef-4d1a-ab7e-6ba23ff5ad96",
   "metadata": {},
   "outputs": [],
   "source": [
    "# 1.Ans \n",
    "#   Web scraping is a term used to describe the use of a program or algorithm to extract and process large \n",
    "#   amounts of data from the web.\n",
    "\n",
    "# Web Scraping lets you automatically extract lots of data from websites. \n",
    "# It changes messy web content, like HTML, into structured data in a spreadsheet or database. \n",
    "# This helps in various ways, from analysis to making better decisions.\n",
    "\n",
    "# Webscrapping is used in -\n",
    "# 1. Price Monitoring\n",
    "# 2. Market Research\n",
    "# 3. News Monitoring"
   ]
  },
  {
   "cell_type": "code",
   "execution_count": 2,
   "id": "40f4c1e9-1d6a-4d4a-a228-a2e04186b0ec",
   "metadata": {},
   "outputs": [],
   "source": [
    "# 2 Ans\n",
    "\n",
    "# Method used for web scrapping-\n",
    "# The simplest form of web scraping is manually copying and pasting data from a web page into a text\n",
    "# file or spreadsheet. ...\n",
    "# Text pattern matching. ...\n",
    "# HTTP programming. ...\n",
    "# HTML parsing. ...\n",
    "# DOM parsing. ...\n",
    "# Vertical aggregation. ...\n",
    "# Semantic annotation recognizing. ...\n",
    "# Computer vision web-page analysis."
   ]
  },
  {
   "cell_type": "code",
   "execution_count": 4,
   "id": "75431b0b-dab0-488e-a16b-3821952483ee",
   "metadata": {},
   "outputs": [],
   "source": [
    "# 3 Ans.\n",
    "\n",
    "# Beautiful Soup is a Python library for pulling data out of HTML and XML files. \n",
    "# It works with your favorite parser to provide idiomatic ways of navigating, searching, and modifying the parse tree.\n",
    "# It commonly saves programmers hours or days of work."
   ]
  },
  {
   "cell_type": "code",
   "execution_count": 7,
   "id": "2de16a91-99e8-4d5d-816f-a1e19ba66d2e",
   "metadata": {},
   "outputs": [],
   "source": [
    "# 4 Ans.\n",
    "\n",
    "# Flask provides a simple and consistent interface to the incoming HTTP request data. \n",
    "# From accessing form data, file uploads, cookies, and headers to handling JSON data, Flask's request handling capabilities \n",
    "# make it easy to build robust and secure web applications."
   ]
  },
  {
   "cell_type": "code",
   "execution_count": 9,
   "id": "832bbbc3-b10c-4c12-89e6-f414705a4cd2",
   "metadata": {},
   "outputs": [],
   "source": [
    "# 5 Ans. AWS services used in this project are as follow:\n",
    "\n",
    "#   Amazon Elastic Beanstalk\n",
    "#   AWS Codepipeline"
   ]
  },
  {
   "cell_type": "code",
   "execution_count": null,
   "id": "6594db56-613b-4280-b9c8-bf4388d8227c",
   "metadata": {},
   "outputs": [],
   "source": []
  }
 ],
 "metadata": {
  "kernelspec": {
   "display_name": "Python 3 (ipykernel)",
   "language": "python",
   "name": "python3"
  },
  "language_info": {
   "codemirror_mode": {
    "name": "ipython",
    "version": 3
   },
   "file_extension": ".py",
   "mimetype": "text/x-python",
   "name": "python",
   "nbconvert_exporter": "python",
   "pygments_lexer": "ipython3",
   "version": "3.10.8"
  }
 },
 "nbformat": 4,
 "nbformat_minor": 5
}
